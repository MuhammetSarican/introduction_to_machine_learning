{
 "cells": [
  {
   "cell_type": "code",
   "execution_count": 2,
   "id": "445c42e4",
   "metadata": {},
   "outputs": [],
   "source": [
    "import pandas as pd\n",
    "import numpy as np\n",
    "#%%  import data\n",
    "\n",
    "data = pd.read_csv(\"data.csv\")\n",
    "data.drop([\"id\",\"Unnamed: 32\"],axis=1,inplace = True)"
   ]
  },
  {
   "cell_type": "code",
   "execution_count": 3,
   "id": "6717b8fa",
   "metadata": {},
   "outputs": [
    {
     "name": "stderr",
     "output_type": "stream",
     "text": [
      "D:\\anaconda3\\lib\\site-packages\\numpy\\core\\fromnumeric.py:84: FutureWarning: In a future version, DataFrame.min(axis=None) will return a scalar min over the entire DataFrame. To retain the old behavior, use 'frame.min(axis=0)' or just 'frame.min()'\n",
      "  return reduction(axis=axis, out=out, **passkwargs)\n",
      "D:\\anaconda3\\lib\\site-packages\\numpy\\core\\fromnumeric.py:84: FutureWarning: In a future version, DataFrame.max(axis=None) will return a scalar max over the entire DataFrame. To retain the old behavior, use 'frame.max(axis=0)' or just 'frame.max()'\n",
      "  return reduction(axis=axis, out=out, **passkwargs)\n"
     ]
    }
   ],
   "source": [
    "# %%\n",
    "data.diagnosis = [ 1 if each == \"M\" else 0 for each in data.diagnosis]\n",
    "y = data.diagnosis.values\n",
    "x_data = data.drop([\"diagnosis\"],axis=1)\n",
    "#%% normalization\n",
    "\n",
    "x = (x_data - np.min(x_data))/(np.max(x_data)-np.min(x_data))\n"
   ]
  },
  {
   "cell_type": "code",
   "execution_count": 4,
   "id": "e797851c",
   "metadata": {},
   "outputs": [],
   "source": [
    "# %% train test split\n",
    "from sklearn.model_selection import train_test_split\n",
    "x_train, x_test,y_train, y_test = train_test_split(x,y,test_size = 0.15,random_state = 42)"
   ]
  },
  {
   "cell_type": "code",
   "execution_count": 5,
   "id": "d8161c7b",
   "metadata": {},
   "outputs": [
    {
     "name": "stdout",
     "output_type": "stream",
     "text": [
      "decision tree score:  0.9186046511627907\n"
     ]
    }
   ],
   "source": [
    "#%% decision tree\n",
    "from sklearn.tree import DecisionTreeClassifier\n",
    "dt = DecisionTreeClassifier()\n",
    "dt.fit(x_train,y_train)\n",
    "print(\"decision tree score: \", dt.score(x_test,y_test))"
   ]
  },
  {
   "cell_type": "code",
   "execution_count": 42,
   "id": "b441dc6d",
   "metadata": {},
   "outputs": [
    {
     "name": "stdout",
     "output_type": "stream",
     "text": [
      "10. random forest algo result:  0.9534883720930233\n",
      "11. random forest algo result:  0.9534883720930233\n",
      "12. random forest algo result:  0.9534883720930233\n",
      "13. random forest algo result:  0.9534883720930233\n",
      "14. random forest algo result:  0.9534883720930233\n",
      "15. random forest algo result:  0.9534883720930233\n",
      "16. random forest algo result:  0.9534883720930233\n",
      "17. random forest algo result:  0.9534883720930233\n",
      "18. random forest algo result:  0.9534883720930233\n",
      "19. random forest algo result:  0.9534883720930233\n",
      "20. random forest algo result:  0.9534883720930233\n",
      "21. random forest algo result:  0.9534883720930233\n",
      "22. random forest algo result:  0.9534883720930233\n",
      "23. random forest algo result:  0.9534883720930233\n",
      "24. random forest algo result:  0.9534883720930233\n",
      "25. random forest algo result:  0.9534883720930233\n",
      "26. random forest algo result:  0.9534883720930233\n",
      "27. random forest algo result:  0.9534883720930233\n",
      "28. random forest algo result:  0.9534883720930233\n",
      "29. random forest algo result:  0.9534883720930233\n",
      "30. random forest algo result:  0.9534883720930233\n",
      "31. random forest algo result:  0.9534883720930233\n",
      "32. random forest algo result:  0.9534883720930233\n",
      "33. random forest algo result:  0.9534883720930233\n",
      "34. random forest algo result:  0.9534883720930233\n",
      "35. random forest algo result:  0.9534883720930233\n",
      "36. random forest algo result:  0.9534883720930233\n",
      "37. random forest algo result:  0.9534883720930233\n",
      "38. random forest algo result:  0.9534883720930233\n",
      "39. random forest algo result:  0.9534883720930233\n",
      "40. random forest algo result:  0.9534883720930233\n",
      "41. random forest algo result:  0.9534883720930233\n",
      "42. random forest algo result:  0.9534883720930233\n",
      "43. random forest algo result:  0.9651162790697675\n",
      "44. random forest algo result:  0.9651162790697675\n",
      "45. random forest algo result:  0.9651162790697675\n",
      "46. random forest algo result:  0.9651162790697675\n",
      "47. random forest algo result:  0.9651162790697675\n",
      "48. random forest algo result:  0.9651162790697675\n",
      "49. random forest algo result:  0.9651162790697675\n",
      "50. random forest algo result:  0.9651162790697675\n",
      "51. random forest algo result:  0.9651162790697675\n",
      "52. random forest algo result:  0.9651162790697675\n",
      "53. random forest algo result:  0.9651162790697675\n",
      "54. random forest algo result:  0.9651162790697675\n",
      "55. random forest algo result:  0.9651162790697675\n",
      "56. random forest algo result:  0.9651162790697675\n",
      "57. random forest algo result:  0.9651162790697675\n",
      "58. random forest algo result:  0.9651162790697675\n",
      "59. random forest algo result:  0.9651162790697675\n",
      "60. random forest algo result:  0.9534883720930233\n",
      "61. random forest algo result:  0.9534883720930233\n",
      "62. random forest algo result:  0.9534883720930233\n",
      "63. random forest algo result:  0.9534883720930233\n",
      "64. random forest algo result:  0.9534883720930233\n",
      "65. random forest algo result:  0.9534883720930233\n",
      "66. random forest algo result:  0.9534883720930233\n",
      "67. random forest algo result:  0.9534883720930233\n",
      "68. random forest algo result:  0.9534883720930233\n",
      "69. random forest algo result:  0.9534883720930233\n",
      "70. random forest algo result:  0.9534883720930233\n",
      "71. random forest algo result:  0.9534883720930233\n",
      "72. random forest algo result:  0.9534883720930233\n",
      "73. random forest algo result:  0.9534883720930233\n",
      "74. random forest algo result:  0.9534883720930233\n",
      "75. random forest algo result:  0.9534883720930233\n",
      "76. random forest algo result:  0.9534883720930233\n",
      "77. random forest algo result:  0.9534883720930233\n",
      "78. random forest algo result:  0.9534883720930233\n",
      "79. random forest algo result:  0.9534883720930233\n",
      "80. random forest algo result:  0.9534883720930233\n",
      "81. random forest algo result:  0.9534883720930233\n",
      "82. random forest algo result:  0.9534883720930233\n",
      "83. random forest algo result:  0.9534883720930233\n",
      "84. random forest algo result:  0.9534883720930233\n",
      "85. random forest algo result:  0.9534883720930233\n",
      "86. random forest algo result:  0.9534883720930233\n",
      "87. random forest algo result:  0.9534883720930233\n",
      "88. random forest algo result:  0.9534883720930233\n",
      "89. random forest algo result:  0.9534883720930233\n",
      "90. random forest algo result:  0.9534883720930233\n",
      "91. random forest algo result:  0.9534883720930233\n",
      "92. random forest algo result:  0.9534883720930233\n",
      "93. random forest algo result:  0.9534883720930233\n",
      "94. random forest algo result:  0.9534883720930233\n",
      "95. random forest algo result:  0.9534883720930233\n",
      "96. random forest algo result:  0.9534883720930233\n",
      "97. random forest algo result:  0.9534883720930233\n",
      "98. random forest algo result:  0.9534883720930233\n",
      "99. random forest algo result:  0.9534883720930233\n",
      "100. random forest algo result:  0.9534883720930233\n"
     ]
    }
   ],
   "source": [
    "#%%  random forest\n",
    "from sklearn.ensemble import RandomForestClassifier\n",
    "for i in range(10, 101):\n",
    "    rf = RandomForestClassifier(criterion = \"entropy\", n_estimators = i, random_state = 1)\n",
    "    rf.fit(x_train,y_train)\n",
    "    print(\"{}. random forest algo result: \".format(i),rf.score(x_test,y_test))"
   ]
  },
  {
   "cell_type": "code",
   "execution_count": null,
   "id": "223ba6f8",
   "metadata": {},
   "outputs": [],
   "source": []
  },
  {
   "cell_type": "code",
   "execution_count": 31,
   "id": "bc843f99",
   "metadata": {},
   "outputs": [],
   "source": [
    "def train_using_entropy(X_train, X_test, y_train,y_test):\n",
    "  \n",
    "    # Decision tree with entropy\n",
    "    clf_entropy = DecisionTreeClassifier(\n",
    "            criterion = \"entropy\", random_state = 100,\n",
    "            max_depth = 6, min_samples_leaf = 5)\n",
    "  \n",
    "    # Performing training\n",
    "    clf_entropy.fit(X_train, y_train)\n",
    "    print('Score:',clf_entropy.score(x_test,y_test))\n",
    "    return clf_entropy"
   ]
  },
  {
   "cell_type": "code",
   "execution_count": 32,
   "id": "210885db",
   "metadata": {},
   "outputs": [
    {
     "name": "stdout",
     "output_type": "stream",
     "text": [
      "Score: 0.9534883720930233\n"
     ]
    }
   ],
   "source": [
    "clf=train_using_entropy(x_train,x_test,y_train,y_test)"
   ]
  },
  {
   "cell_type": "code",
   "execution_count": null,
   "id": "2442b4d6",
   "metadata": {},
   "outputs": [],
   "source": []
  }
 ],
 "metadata": {
  "kernelspec": {
   "display_name": "Python 3 (ipykernel)",
   "language": "python",
   "name": "python3"
  },
  "language_info": {
   "codemirror_mode": {
    "name": "ipython",
    "version": 3
   },
   "file_extension": ".py",
   "mimetype": "text/x-python",
   "name": "python",
   "nbconvert_exporter": "python",
   "pygments_lexer": "ipython3",
   "version": "3.9.11"
  }
 },
 "nbformat": 4,
 "nbformat_minor": 5
}
