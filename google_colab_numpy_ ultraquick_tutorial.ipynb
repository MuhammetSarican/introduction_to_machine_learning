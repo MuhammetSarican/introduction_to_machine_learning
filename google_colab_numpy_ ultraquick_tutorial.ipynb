{
 "cells": [
  {
   "cell_type": "code",
   "execution_count": 1,
   "id": "6aea9dc5",
   "metadata": {},
   "outputs": [],
   "source": [
    "import numpy as np"
   ]
  },
  {
   "cell_type": "code",
   "execution_count": 3,
   "id": "52f7c968",
   "metadata": {},
   "outputs": [
    {
     "name": "stdout",
     "output_type": "stream",
     "text": [
      "[1.2 2.4 3.5 4.7 6.1 7.2 8.3 9.5]\n"
     ]
    }
   ],
   "source": [
    "one_dimensional_array=np.array([1.2,2.4,3.5,4.7,6.1,7.2,8.3,9.5])\n",
    "print(one_dimensional_array)"
   ]
  },
  {
   "cell_type": "code",
   "execution_count": 7,
   "id": "81d6d16b",
   "metadata": {},
   "outputs": [
    {
     "name": "stdout",
     "output_type": "stream",
     "text": [
      "[[ 6  5]\n",
      " [11  7]\n",
      " [ 4  8]]\n"
     ]
    }
   ],
   "source": [
    "two_dimensional_array=np.array([[6,5],[11,7],[4,8]])\n",
    "print(two_dimensional_array)"
   ]
  },
  {
   "cell_type": "code",
   "execution_count": 9,
   "id": "2bb41f7e",
   "metadata": {},
   "outputs": [
    {
     "name": "stdout",
     "output_type": "stream",
     "text": [
      "[ 5  6  7  8  9 10 11]\n"
     ]
    }
   ],
   "source": [
    "sequence_of_integers=np.arange(5,12)\n",
    "print(sequence_of_integers)"
   ]
  },
  {
   "cell_type": "code",
   "execution_count": 12,
   "id": "31638c05",
   "metadata": {},
   "outputs": [
    {
     "name": "stdout",
     "output_type": "stream",
     "text": [
      "[100  74  99  63  66  93]\n"
     ]
    }
   ],
   "source": [
    "random_integers_between_50_and_100=np.random.randint(low=50,high=101,size=(6))\n",
    "print(random_integers_between_50_and_100)"
   ]
  },
  {
   "cell_type": "code",
   "execution_count": 14,
   "id": "b1dbbeb9",
   "metadata": {},
   "outputs": [
    {
     "name": "stdout",
     "output_type": "stream",
     "text": [
      "[0.36206839 0.44967721 0.70300797 0.87719873 0.88043261 0.52358948]\n"
     ]
    }
   ],
   "source": [
    "random_floats_between_0_and_1=np.random.random([6])\n",
    "print(random_floats_between_0_and_1)"
   ]
  },
  {
   "cell_type": "code",
   "execution_count": 16,
   "id": "2f51db63",
   "metadata": {},
   "outputs": [
    {
     "name": "stdout",
     "output_type": "stream",
     "text": [
      "[2.36206839 2.44967721 2.70300797 2.87719873 2.88043261 2.52358948]\n"
     ]
    }
   ],
   "source": [
    "random_floats_between_2_and_3=random_floats_between_0_and_1+2.0\n",
    "print(random_floats_between_2_and_3)"
   ]
  },
  {
   "cell_type": "code",
   "execution_count": 19,
   "id": "ccf33481",
   "metadata": {},
   "outputs": [
    {
     "name": "stdout",
     "output_type": "stream",
     "text": [
      "[ 6  7  8  9 10 11 12 13 14 15 16 17 18 19 20]\n",
      "[22 25 28 31 34 37 40 43 46 49 52 55 58 61 64]\n"
     ]
    }
   ],
   "source": [
    "feature=np.arange(6,21)\n",
    "label=(3*feature)+4\n",
    "print(feature)\n",
    "print(label)"
   ]
  }
 ],
 "metadata": {
  "kernelspec": {
   "display_name": "Python 3 (ipykernel)",
   "language": "python",
   "name": "python3"
  },
  "language_info": {
   "codemirror_mode": {
    "name": "ipython",
    "version": 3
   },
   "file_extension": ".py",
   "mimetype": "text/x-python",
   "name": "python",
   "nbconvert_exporter": "python",
   "pygments_lexer": "ipython3",
   "version": "3.9.7"
  }
 },
 "nbformat": 4,
 "nbformat_minor": 5
}
